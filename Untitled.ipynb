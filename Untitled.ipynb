{
 "cells": [
  {
   "cell_type": "markdown",
   "metadata": {},
   "source": [
    "## 1. Analysing movie ratings\n",
    "<p>Here we are going to demonstrate some analysis performed upon movie ratings data and the preperation involved to be turned into a former proper for later usage with machine learning algorithms. This dataset is provided by <a src=\"https://grouplens.org/datasets/movielens/\">GroupLens Research</a> and is collected by users of MovieLens which essentialy is a movie recomendations service (more about MovieLens <a src=\"https://movielens.org/\">here</a>).</p>\n",
    "<img src=\"https://md.ekstrandom.net/talks/2014/recsys2014/grouplens.png\" \"width=150px\">\n",
    "<p>Just to give a brief description of them, the data provide movie ratings, movie metadata (genres and year), and demographic data about the users(age, zip code, gender identification and occupation) and this is the information that is often of interest in the development of recommendation systems. The dataset contains 1 million ratings collected from 6,000 users on 4,000 movies and it is spread across three tables: ratings, user inforamtion and movie information.</p>\n",
    "<hr>\n",
    "<p>So let's begin! First we will import our data and print the first few lines to have a look of the data structure.\n",
    "    <br><strong>Note: </strong>some of the data contained are sensitive so they've been kept anonymous, for example by assigning an integer to each different occupation.</p>"
   ]
  },
  {
   "cell_type": "code",
   "execution_count": 19,
   "metadata": {},
   "outputs": [
    {
     "name": "stdout",
     "output_type": "stream",
     "text": [
      "Users Table\n",
      "    user_id gender  age  occupation    zip\n",
      "0        1      F    1          10  48067\n",
      "1        2      M   56          16  70072\n",
      "2        3      M   25          15  55117\n",
      "3        4      M   45           7  02460\n",
      "4        5      M   25          20  55455\n",
      "\n",
      "Ratings Table\n",
      "    user_id  movie_id  rating  timestamp\n",
      "0        1      1193       5  978300760\n",
      "1        1       661       3  978302109\n",
      "2        1       914       3  978301968\n",
      "3        1      3408       4  978300275\n",
      "4        1      2355       5  978824291\n",
      "\n",
      "Movies Table\n",
      "    movie_id  title     genres\n",
      "1      1193      5  978300760\n",
      "1       661      3  978302109\n",
      "1       914      3  978301968\n",
      "1      3408      4  978300275\n",
      "1      2355      5  978824291\n"
     ]
    }
   ],
   "source": [
    "import pandas as pd\n",
    "\n",
    "# Make display smaller\n",
    "pd.options.display.max_rows = 10\n",
    "\n",
    "# Create dataframe for users info\n",
    "unames = ['user_id', 'gender', 'age', 'occupation', 'zip']\n",
    "users = pd.read_table('./datasets/movielens/users.dat', sep='::',\n",
    "                      names=unames, engine='python')\n",
    "\n",
    "# Create dataframe for ratings info\n",
    "rnames = ['user_id', 'movie_id', 'rating', 'timestamp']\n",
    "ratings = pd.read_table('./datasets/movielens/ratings.dat', sep='::',\n",
    "                       names=rnames, engine='python')\n",
    "\n",
    "# Create dataframe for movies info\n",
    "mnames = ['movie_id', 'title', 'genres']\n",
    "movies = pd.read_table('./datasets/movielens/ratings.dat', sep='::',\n",
    "                      names=mnames, engine='python')\n",
    "\n",
    "# Print few first lines of each\n",
    "print(\"Users Table\\n\", users.head(), end='\\n\\n')\n",
    "print(\"Ratings Table\\n\", ratings.head(), end='\\n\\n')\n",
    "print(\"Movies Table\\n\", movies.head())"
   ]
  }
 ],
 "metadata": {
  "kernelspec": {
   "display_name": "maths",
   "language": "python",
   "name": "maths"
  },
  "language_info": {
   "codemirror_mode": {
    "name": "ipython",
    "version": 3
   },
   "file_extension": ".py",
   "mimetype": "text/x-python",
   "name": "python",
   "nbconvert_exporter": "python",
   "pygments_lexer": "ipython3",
   "version": "3.8.2"
  }
 },
 "nbformat": 4,
 "nbformat_minor": 4
}
